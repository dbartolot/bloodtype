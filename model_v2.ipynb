{
 "cells": [
  {
   "cell_type": "code",
   "execution_count": 1,
   "id": "262a9b24-2ac2-4771-8dc7-50bd6b9d3696",
   "metadata": {
    "scrolled": true
   },
   "outputs": [
    {
     "name": "stdout",
     "output_type": "stream",
     "text": [
      "Requirement already satisfied: numpy in /home/bdan/envs/bloodtype/lib/python3.9/site-packages (1.21.5)\n",
      "Requirement already satisfied: matplotlib in /home/bdan/envs/bloodtype/lib/python3.9/site-packages (3.5.1)\n",
      "Requirement already satisfied: ipdb in /home/bdan/envs/bloodtype/lib/python3.9/site-packages (0.13.9)\n",
      "Requirement already satisfied: setuptools in /home/bdan/envs/bloodtype/lib/python3.9/site-packages (from ipdb) (44.1.1)\n",
      "Requirement already satisfied: ipython>=7.17.0 in /home/bdan/envs/bloodtype/lib/python3.9/site-packages (from ipdb) (7.30.1)\n",
      "Requirement already satisfied: toml>=0.10.2 in /home/bdan/envs/bloodtype/lib/python3.9/site-packages (from ipdb) (0.10.2)\n",
      "Requirement already satisfied: decorator in /home/bdan/envs/bloodtype/lib/python3.9/site-packages (from ipdb) (5.1.0)\n",
      "Requirement already satisfied: backcall in /home/bdan/envs/bloodtype/lib/python3.9/site-packages (from ipython>=7.17.0->ipdb) (0.2.0)\n",
      "Requirement already satisfied: pexpect>4.3 in /home/bdan/envs/bloodtype/lib/python3.9/site-packages (from ipython>=7.17.0->ipdb) (4.8.0)\n",
      "Requirement already satisfied: prompt-toolkit!=3.0.0,!=3.0.1,<3.1.0,>=2.0.0 in /home/bdan/envs/bloodtype/lib/python3.9/site-packages (from ipython>=7.17.0->ipdb) (3.0.24)\n",
      "Requirement already satisfied: matplotlib-inline in /home/bdan/envs/bloodtype/lib/python3.9/site-packages (from ipython>=7.17.0->ipdb) (0.1.3)\n",
      "Requirement already satisfied: pygments in /home/bdan/envs/bloodtype/lib/python3.9/site-packages (from ipython>=7.17.0->ipdb) (2.11.0)\n",
      "Requirement already satisfied: jedi>=0.16 in /home/bdan/envs/bloodtype/lib/python3.9/site-packages (from ipython>=7.17.0->ipdb) (0.18.1)\n",
      "Requirement already satisfied: traitlets>=4.2 in /home/bdan/envs/bloodtype/lib/python3.9/site-packages (from ipython>=7.17.0->ipdb) (5.1.1)\n",
      "Requirement already satisfied: pickleshare in /home/bdan/envs/bloodtype/lib/python3.9/site-packages (from ipython>=7.17.0->ipdb) (0.7.5)\n",
      "Requirement already satisfied: parso<0.9.0,>=0.8.0 in /home/bdan/envs/bloodtype/lib/python3.9/site-packages (from jedi>=0.16->ipython>=7.17.0->ipdb) (0.8.3)\n",
      "Requirement already satisfied: ptyprocess>=0.5 in /home/bdan/envs/bloodtype/lib/python3.9/site-packages (from pexpect>4.3->ipython>=7.17.0->ipdb) (0.7.0)\n",
      "Requirement already satisfied: wcwidth in /home/bdan/envs/bloodtype/lib/python3.9/site-packages (from prompt-toolkit!=3.0.0,!=3.0.1,<3.1.0,>=2.0.0->ipython>=7.17.0->ipdb) (0.2.5)\n",
      "Requirement already satisfied: pyparsing>=2.2.1 in /home/bdan/envs/bloodtype/lib/python3.9/site-packages (from matplotlib) (3.0.6)\n",
      "Requirement already satisfied: kiwisolver>=1.0.1 in /home/bdan/envs/bloodtype/lib/python3.9/site-packages (from matplotlib) (1.3.2)\n",
      "Requirement already satisfied: pillow>=6.2.0 in /home/bdan/envs/bloodtype/lib/python3.9/site-packages (from matplotlib) (8.4.0)\n",
      "Requirement already satisfied: packaging>=20.0 in /home/bdan/envs/bloodtype/lib/python3.9/site-packages (from matplotlib) (21.3)\n",
      "Requirement already satisfied: fonttools>=4.22.0 in /home/bdan/envs/bloodtype/lib/python3.9/site-packages (from matplotlib) (4.28.5)\n",
      "Requirement already satisfied: python-dateutil>=2.7 in /home/bdan/envs/bloodtype/lib/python3.9/site-packages (from matplotlib) (2.8.2)\n",
      "Requirement already satisfied: cycler>=0.10 in /home/bdan/envs/bloodtype/lib/python3.9/site-packages (from matplotlib) (0.11.0)\n",
      "Requirement already satisfied: six>=1.5 in /home/bdan/envs/bloodtype/lib/python3.9/site-packages (from python-dateutil>=2.7->matplotlib) (1.16.0)\n",
      "Requirement already satisfied: tqdm in /home/bdan/envs/bloodtype/lib/python3.9/site-packages (4.62.3)\n"
     ]
    }
   ],
   "source": [
    "!pip install numpy matplotlib ipdb \n",
    "!pip install tqdm"
   ]
  },
  {
   "cell_type": "code",
   "execution_count": 1,
   "id": "50c63e2d",
   "metadata": {},
   "outputs": [],
   "source": [
    "import numpy as np\n",
    "from matplotlib import pyplot as plt\n",
    "import random\n",
    "from bloodtype_v2 import BloodType\n",
    "\n",
    "from tqdm import tqdm\n",
    "import pickle\n",
    "\n",
    "import ipdb"
   ]
  },
  {
   "cell_type": "code",
   "execution_count": 2,
   "id": "45a1158a",
   "metadata": {},
   "outputs": [],
   "source": [
    "\n",
    "random.seed(1234)"
   ]
  },
  {
   "cell_type": "code",
   "execution_count": 3,
   "id": "0789a9c4",
   "metadata": {},
   "outputs": [],
   "source": [
    "model = BloodType(1000, timesteptype='m')"
   ]
  },
  {
   "cell_type": "code",
   "execution_count": 4,
   "id": "0d89747b",
   "metadata": {},
   "outputs": [
    {
     "name": "stderr",
     "output_type": "stream",
     "text": [
      "100%|██████████| 100/100 [00:00<00:00, 419.72it/s]\n"
     ]
    },
    {
     "name": "stdout",
     "output_type": "stream",
     "text": [
      "step: 420.83 [1200, 1, 2, array([583, 617]), [1200, 0, 0, 0]]\n"
     ]
    },
    {
     "name": "stderr",
     "output_type": "stream",
     "text": [
      "100%|██████████| 10/10 [00:00<00:00, 209.54it/s]\n"
     ]
    },
    {
     "name": "stdout",
     "output_type": "stream",
     "text": [
      "step: 605.00 [1240, 1, 2, array([597, 643]), [1200, 20, 20, 0]]\n"
     ]
    },
    {
     "name": "stderr",
     "output_type": "stream",
     "text": [
      "100%|██████████| 1000/1000 [00:05<00:00, 194.85it/s]\n"
     ]
    },
    {
     "name": "stdout",
     "output_type": "stream",
     "text": [
      "step: 52313.33 [4481, 4, 5, array([2189, 2292]), [4366, 59, 56, 0]]\n"
     ]
    },
    {
     "name": "stderr",
     "output_type": "stream",
     "text": [
      "100%|██████████| 200/200 [00:04<00:00, 46.00it/s]\n"
     ]
    },
    {
     "name": "stdout",
     "output_type": "stream",
     "text": [
      "step: 72655.00 [5673, 236, 7, array([2797, 2876]), [5532, 74, 67, 0]]\n"
     ]
    },
    {
     "name": "stderr",
     "output_type": "stream",
     "text": [
      "  0%|          | 5/1000 [00:00<00:25, 39.68it/s]"
     ]
    },
    {
     "name": "stdout",
     "output_type": "stream",
     "text": [
      "step: 72765.08 [5680, 5, 7, array([2801, 2879]), [5539, 74, 67, 0]]\n"
     ]
    },
    {
     "name": "stderr",
     "output_type": "stream",
     "text": [
      "  6%|▌         | 58/1000 [00:01<00:21, 44.71it/s]"
     ]
    },
    {
     "name": "stdout",
     "output_type": "stream",
     "text": [
      "step: 78375.50 [6030, 5, 7, array([2977, 3053]), [5883, 77, 70, 0]]\n"
     ]
    },
    {
     "name": "stderr",
     "output_type": "stream",
     "text": [
      " 10%|█         | 105/1000 [00:02<00:17, 52.59it/s]"
     ]
    },
    {
     "name": "stdout",
     "output_type": "stream",
     "text": [
      "step: 84194.25 [6380, 5, 7, array([3138, 3242]), [6228, 81, 71, 0]]\n"
     ]
    },
    {
     "name": "stderr",
     "output_type": "stream",
     "text": [
      " 16%|█▌        | 159/1000 [00:03<00:18, 45.05it/s]"
     ]
    },
    {
     "name": "stdout",
     "output_type": "stream",
     "text": [
      "step: 90221.33 [6768, 6, 8, array([3342, 3426]), [6605, 85, 78, 0]]\n"
     ]
    },
    {
     "name": "stderr",
     "output_type": "stream",
     "text": [
      " 20%|██        | 205/1000 [00:04<00:19, 40.35it/s]"
     ]
    },
    {
     "name": "stdout",
     "output_type": "stream",
     "text": [
      "step: 96456.75 [7168, 6, 8, array([3549, 3619]), [6994, 89, 84, 1]]\n"
     ]
    },
    {
     "name": "stderr",
     "output_type": "stream",
     "text": [
      " 26%|██▌       | 257/1000 [00:06<00:22, 33.73it/s]"
     ]
    },
    {
     "name": "stdout",
     "output_type": "stream",
     "text": [
      "step: 102900.50 [7590, 6, 9, array([3756, 3834]), [7409, 91, 89, 1]]\n"
     ]
    },
    {
     "name": "stderr",
     "output_type": "stream",
     "text": [
      " 30%|███       | 304/1000 [00:07<00:21, 31.80it/s]"
     ]
    },
    {
     "name": "stdout",
     "output_type": "stream",
     "text": [
      "step: 109552.58 [8040, 7, 9, array([3978, 4062]), [7842, 100, 97, 1]]\n"
     ]
    },
    {
     "name": "stderr",
     "output_type": "stream",
     "text": [
      " 36%|███▌      | 356/1000 [00:09<00:21, 30.36it/s]"
     ]
    },
    {
     "name": "stdout",
     "output_type": "stream",
     "text": [
      "step: 116413.00 [8510, 7, 10, array([4189, 4321]), [8299, 108, 102, 1]]\n"
     ]
    },
    {
     "name": "stderr",
     "output_type": "stream",
     "text": [
      " 40%|████      | 405/1000 [00:11<00:19, 29.96it/s]"
     ]
    },
    {
     "name": "stdout",
     "output_type": "stream",
     "text": [
      "step: 123481.75 [9010, 7, 10, array([4458, 4552]), [8787, 115, 107, 1]]\n"
     ]
    },
    {
     "name": "stderr",
     "output_type": "stream",
     "text": [
      " 45%|████▌     | 454/1000 [00:13<00:32, 16.63it/s]"
     ]
    },
    {
     "name": "stdout",
     "output_type": "stream",
     "text": [
      "step: 130758.83 [9537, 8, 11, array([4715, 4822]), [9304, 122, 110, 1]]\n"
     ]
    },
    {
     "name": "stderr",
     "output_type": "stream",
     "text": [
      " 50%|█████     | 504/1000 [00:17<00:31, 15.58it/s]"
     ]
    },
    {
     "name": "stdout",
     "output_type": "stream",
     "text": [
      "step: 138244.25 [10087, 8, 11, array([4984, 5103]), [9841, 128, 117, 1]]\n"
     ]
    },
    {
     "name": "stderr",
     "output_type": "stream",
     "text": [
      " 55%|█████▌    | 552/1000 [00:20<00:33, 13.31it/s]"
     ]
    },
    {
     "name": "stdout",
     "output_type": "stream",
     "text": [
      "step: 145938.00 [10680, 9, 12, array([5264, 5416]), [10422, 134, 123, 1]]\n"
     ]
    },
    {
     "name": "stderr",
     "output_type": "stream",
     "text": [
      " 60%|██████    | 602/1000 [00:23<00:25, 15.80it/s]"
     ]
    },
    {
     "name": "stdout",
     "output_type": "stream",
     "text": [
      "step: 153840.08 [11296, 9, 13, array([5561, 5735]), [11021, 144, 130, 1]]\n"
     ]
    },
    {
     "name": "stderr",
     "output_type": "stream",
     "text": [
      " 65%|██████▌   | 653/1000 [00:26<00:23, 14.95it/s]"
     ]
    },
    {
     "name": "stdout",
     "output_type": "stream",
     "text": [
      "step: 161950.50 [11946, 10, 13, array([5881, 6065]), [11657, 153, 135, 1]]\n"
     ]
    },
    {
     "name": "stderr",
     "output_type": "stream",
     "text": [
      " 70%|███████   | 704/1000 [00:30<00:15, 18.72it/s]"
     ]
    },
    {
     "name": "stdout",
     "output_type": "stream",
     "text": [
      "step: 170269.25 [12641, 11, 14, array([6230, 6411]), [12335, 163, 142, 1]]\n"
     ]
    },
    {
     "name": "stderr",
     "output_type": "stream",
     "text": [
      " 75%|███████▌  | 754/1000 [00:33<00:14, 16.93it/s]"
     ]
    },
    {
     "name": "stdout",
     "output_type": "stream",
     "text": [
      "step: 178796.33 [13370, 11, 15, array([6584, 6786]), [13042, 174, 153, 1]]\n"
     ]
    },
    {
     "name": "stderr",
     "output_type": "stream",
     "text": [
      " 80%|████████  | 802/1000 [00:37<00:16, 12.30it/s]"
     ]
    },
    {
     "name": "stdout",
     "output_type": "stream",
     "text": [
      "step: 187531.75 [14138, 12, 16, array([6962, 7176]), [13796, 183, 158, 1]]\n"
     ]
    },
    {
     "name": "stderr",
     "output_type": "stream",
     "text": [
      " 85%|████████▌ | 852/1000 [00:41<00:12, 11.97it/s]"
     ]
    },
    {
     "name": "stdout",
     "output_type": "stream",
     "text": [
      "step: 196475.50 [14948, 12, 17, array([7340, 7608]), [14584, 193, 170, 1]]\n"
     ]
    },
    {
     "name": "stderr",
     "output_type": "stream",
     "text": [
      " 90%|█████████ | 903/1000 [00:46<00:09, 10.21it/s]"
     ]
    },
    {
     "name": "stdout",
     "output_type": "stream",
     "text": [
      "step: 205627.58 [15804, 13, 18, array([7788, 8016]), [15416, 204, 183, 1]]\n"
     ]
    },
    {
     "name": "stderr",
     "output_type": "stream",
     "text": [
      " 91%|█████████ | 908/1000 [00:47<00:09,  9.46it/s]"
     ]
    }
   ],
   "source": [
    "# iterations\n",
    "for i in tqdm(range(100)):\n",
    "    model.step()\n",
    "model.printState()\n",
    "\n",
    "for i in tqdm(range(10)):\n",
    "    model.step(bt_mutation='A', mutations=10)\n",
    "    model.step(bt_mutation='B', mutations=10)\n",
    "model.printState()\n",
    "\n",
    "for i in tqdm(range(1000)):\n",
    "    model.step()\n",
    "model.printState()\n",
    "\n",
    "model.setFitness(fitness = {\n",
    "        'O': 10,\n",
    "        'A': 1,\n",
    "        'B': 20,\n",
    "        'AB': 20\n",
    "    })\n",
    "model.setDeathRate(value=0.5)\n",
    "\n",
    "for i in tqdm(range(200)):\n",
    "    model.step()\n",
    "model.printState()\n",
    "\n",
    "model.setFitness(fitness = {\n",
    "        'O': 1,\n",
    "        'A': 1,\n",
    "        'B': 1,\n",
    "        'AB': 1\n",
    "    })\n",
    "model.setDeathRate(value=0.01)\n",
    "\n",
    "\n",
    "for i in tqdm(range(1000)):\n",
    "    model.step()\n",
    "    # if i % 50 ==0:\n",
    "    #     model.printState()\n",
    "model.printState()"
   ]
  },
  {
   "cell_type": "code",
   "execution_count": null,
   "id": "340dcab2",
   "metadata": {},
   "outputs": [],
   "source": [
    "# model.plotSize()\n",
    "model.plotSize()\n",
    "# model.plotSex(ratio=True)\n",
    "model.plotBtPt()"
   ]
  },
  {
   "cell_type": "code",
   "execution_count": null,
   "id": "97371078",
   "metadata": {},
   "outputs": [],
   "source": []
  }
 ],
 "metadata": {
  "kernelspec": {
   "display_name": "Python 3",
   "language": "python",
   "name": "python3"
  },
  "language_info": {
   "codemirror_mode": {
    "name": "ipython",
    "version": 3
   },
   "file_extension": ".py",
   "mimetype": "text/x-python",
   "name": "python",
   "nbconvert_exporter": "python",
   "pygments_lexer": "ipython3",
   "version": "3.9.7"
  }
 },
 "nbformat": 4,
 "nbformat_minor": 5
}

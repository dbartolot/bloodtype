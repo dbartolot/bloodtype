{
 "cells": [
  {
   "cell_type": "code",
   "execution_count": null,
   "id": "50c63e2d",
   "metadata": {},
   "outputs": [],
   "source": [
    "import numpy as np\n",
    "from matplotlib import pyplot as plt\n",
    "import random\n",
    "from bloodtype import BloodType\n",
    "from tqdm import tqdm\n",
    "import pickle\n",
    "\n",
    "import ipdb"
   ]
  },
  {
   "cell_type": "code",
   "execution_count": null,
   "id": "0789a9c4",
   "metadata": {},
   "outputs": [],
   "source": [
    "random.seed(1234)\n",
    "model = BloodType(1000, '1st_model.pickle')\n",
    "\n",
    "print(np.unique([p.sex for p in model.persons], return_counts=True)[1])\n",
    "\n",
    "# iterations\n",
    "for i in tqdm(range(100)):\n",
    "    model.step()\n",
    "model.printState()\n",
    "\n"
   ]
  },
  {
   "cell_type": "code",
   "execution_count": null,
   "id": "0d89747b",
   "metadata": {},
   "outputs": [],
   "source": [
    "# generate childs with mutations\n",
    "for i in range(10):\n",
    "    model.genMutatedOffspring(genotypeMutation='A')\n",
    "    model.genMutatedOffspring(genotypeMutation='B')\n",
    "\n",
    "model.printState()\n",
    "\n"
   ]
  },
  {
   "cell_type": "code",
   "execution_count": null,
   "id": "340dcab2",
   "metadata": {},
   "outputs": [],
   "source": [
    "# iterations\n",
    "for i in tqdm(range(1000000)):\n",
    "    model.step()\n",
    "model.printState()\n",
    "\n"
   ]
  },
  {
   "cell_type": "code",
   "execution_count": null,
   "id": "949abf9e",
   "metadata": {},
   "outputs": [],
   "source": [
    "# model.save()\n",
    "\n",
    "\n",
    "# model.plot_sex()\n",
    "# model.plot_sex(ratio=True)\n",
    "model.plot_phenotype()\n",
    "model.plot_phenotype(ratio=True)\n",
    "ipdb.set_trace()"
   ]
  }
 ],
 "metadata": {
  "kernelspec": {
   "display_name": "Python 3 (ipykernel)",
   "language": "python",
   "name": "python3"
  },
  "language_info": {
   "codemirror_mode": {
    "name": "ipython",
    "version": 3
   },
   "file_extension": ".py",
   "mimetype": "text/x-python",
   "name": "python",
   "nbconvert_exporter": "python",
   "pygments_lexer": "ipython3",
   "version": "3.9.7"
  }
 },
 "nbformat": 4,
 "nbformat_minor": 5
}

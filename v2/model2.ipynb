{
 "cells": [
  {
   "cell_type": "markdown",
   "id": "18360938",
   "metadata": {},
   "source": [
    "## imports"
   ]
  },
  {
   "cell_type": "code",
   "execution_count": 1,
   "id": "50c63e2d",
   "metadata": {},
   "outputs": [],
   "source": [
    "import random\n",
    "from bloodtype import BloodType\n",
    "\n",
    "from tqdm import tqdm, trange\n",
    "\n",
    "import ipdb\n",
    "import numpy as np\n",
    "from matplotlib import pyplot as plt"
   ]
  },
  {
   "cell_type": "code",
   "execution_count": null,
   "id": "a647a886",
   "metadata": {},
   "outputs": [],
   "source": []
  },
  {
   "cell_type": "code",
   "execution_count": 2,
   "id": "17d71b85",
   "metadata": {},
   "outputs": [],
   "source": [
    "%matplotlib inline\n",
    "# %matplotlib notebook"
   ]
  },
  {
   "cell_type": "code",
   "execution_count": 3,
   "id": "45a1158a",
   "metadata": {},
   "outputs": [],
   "source": [
    "\n",
    "random.seed(1234)"
   ]
  },
  {
   "cell_type": "markdown",
   "id": "f16fa3c6",
   "metadata": {},
   "source": [
    "## define model\n"
   ]
  },
  {
   "cell_type": "code",
   "execution_count": 4,
   "id": "0789a9c4",
   "metadata": {},
   "outputs": [],
   "source": [
    "random.seed(1234)\n",
    "model = BloodType(20000,\n",
    "                  # deathRate=0.0,\n",
    "                  # birthRate=0.0,\n",
    "                  timesteptype='y')"
   ]
  },
  {
   "cell_type": "code",
   "execution_count": 5,
   "id": "0d89747b",
   "metadata": {},
   "outputs": [],
   "source": [
    "model.set_fitness(fitness={\n",
    "        'O': 15,\n",
    "        'A': 1,\n",
    "        'B': 4,\n",
    "        'AB': 2\n",
    "    })\n"
   ]
  },
  {
   "cell_type": "code",
   "execution_count": 6,
   "id": "340dcab2",
   "metadata": {},
   "outputs": [
    {
     "name": "stderr",
     "output_type": "stream",
     "text": [
      "Population Size 20221, year 99.0: 100%|██████████| 100/100 [01:10<00:00,  1.42it/s]\n"
     ]
    },
    {
     "name": "stdout",
     "output_type": "stream",
     "text": [
      "step: 100.00 [20223, 186, 188, [10075, 10148], [20223, 0, 0, 0], [20223, 0, 0, 0, 0, 0, 0, 0], [1883, 1880, 1879, 1880, 1868, 1868, 1852, 1840, 1798, 1627, 1848]]\n"
     ]
    },
    {
     "name": "stderr",
     "output_type": "stream",
     "text": [
      "Population Size 20231, year 104.0: 100%|██████████| 5/5 [00:03<00:00,  1.33it/s]\n"
     ]
    },
    {
     "name": "stdout",
     "output_type": "stream",
     "text": [
      "step: 105.00 [20233, 186, 188, [10095, 10138], [19293, 940, 0, 0], [19293, 940, 0, 0, 0, 0, 0, 0], [1882, 1881, 1879, 1880, 1876, 1866, 1856, 1857, 1825, 1679, 1752]]\n"
     ]
    },
    {
     "name": "stderr",
     "output_type": "stream",
     "text": [
      "Population Size 20245, year 109.0: 100%|██████████| 5/5 [00:03<00:00,  1.40it/s]\n"
     ]
    },
    {
     "name": "stdout",
     "output_type": "stream",
     "text": [
      "step: 110.00 [20248, 186, 189, [10149, 10099], [18363, 941, 945, 1], [18363, 941, 945, 1, 0, 0, 0, 0], [1885, 1883, 1880, 1879, 1880, 1866, 1868, 1851, 1835, 1731, 1690]]\n"
     ]
    },
    {
     "name": "stderr",
     "output_type": "stream",
     "text": [
      "Population Size 20475, year 209.0: 100%|██████████| 100/100 [01:12<00:00,  1.37it/s]\n"
     ]
    },
    {
     "name": "stdout",
     "output_type": "stream",
     "text": [
      "step: 210.00 [20478, 188, 191, [10164, 10314], [13905, 3465, 3347, 239], [13905, 3465, 3347, 239, 0, 0, 0, 0], [1909, 1905, 1900, 1899, 1900, 1898, 1891, 1889, 1876, 1716, 1695]]\n"
     ]
    },
    {
     "name": "stderr",
     "output_type": "stream",
     "text": [
      "Population Size 20500, year 219.0: 100%|██████████| 10/10 [00:07<00:00,  1.36it/s]\n"
     ]
    },
    {
     "name": "stdout",
     "output_type": "stream",
     "text": [
      "step: 220.00 [20502, 189, 191, [10163, 10339], [13870, 3603, 3289, 260], [13870, 3603, 3289, 260, 0, 0, 0, 0], [1910, 1909, 1904, 1900, 1899, 1899, 1896, 1889, 1881, 1744, 1671]]\n"
     ]
    },
    {
     "name": "stderr",
     "output_type": "stream",
     "text": [
      "Population Size 22926, year 1219.0: 100%|██████████| 1000/1000 [13:22<00:00,  1.25it/s]"
     ]
    },
    {
     "name": "stdout",
     "output_type": "stream",
     "text": [
      "step: 1220.00 [22929, 211, 214, [11565, 11364], [15531, 4496, 3180, 278], [15531, 4496, 3180, 278, 479, 110, 111, 9], [2134, 2132, 2130, 2130, 2126, 2121, 2120, 2115, 2097, 1899, 1925]]\n"
     ]
    },
    {
     "name": "stderr",
     "output_type": "stream",
     "text": [
      "\n"
     ]
    }
   ],
   "source": [
    "model.steps(100)\n",
    "model.steps(5, bt_mutation='A')\n",
    "model.steps(5, bt_mutation='B')\n",
    "model.steps(100)\n",
    "\n",
    "model.steps(10, rf_mutation='-')\n",
    "model.steps(1000)\n"
   ]
  },
  {
   "cell_type": "code",
   "execution_count": 8,
   "id": "bc42e4cb",
   "metadata": {},
   "outputs": [],
   "source": [
    "prop_bt = model.fitness[model.population['bt_pt']]\n",
    "prop_bt = prop_bt/np.sum(prop_bt)\n",
    "\n",
    "prop_age = np.array([model.age_penalty[((model.age_penalty[:, 0] - age) <= 0).sum() - 1, 3]\n",
    "                        for age in model.population['age']])\n",
    "prop_age = prop_age/np.sum(prop_age)\n",
    "\n",
    "prop = np.array(prop_bt * prop_age)\n",
    "prop = prop / np.sum(prop)"
   ]
  },
  {
   "cell_type": "code",
   "execution_count": 11,
   "id": "09a9ca9b",
   "metadata": {},
   "outputs": [
    {
     "data": {
      "text/plain": [
       "array([  0.,  10.,  20.,  30.,  40.,  50.,  60.,  70.,  80.,  90., 100.])"
      ]
     },
     "execution_count": 11,
     "metadata": {},
     "output_type": "execute_result"
    }
   ],
   "source": [
    "ag = np.array([model.age_penalty[((model.age_penalty[:, 0] - age) <= 0).sum() - 1, 0] for age in model.population['age']])\n",
    "\n",
    "np.unique(ag)\n",
    "\n"
   ]
  },
  {
   "cell_type": "code",
   "execution_count": 20,
   "id": "c68da731",
   "metadata": {},
   "outputs": [
    {
     "data": {
      "image/png": "[encoded data removed]",
      "text/plain": [
       "<Figure size 432x288 with 1 Axes>"
      ]
     },
     "metadata": {
      "needs_background": "light"
     },
     "output_type": "display_data"
    }
   ],
   "source": [
    "plt.hist(prop[ag==model.age_penalty[0,0]], histtype='step')\n",
    "plt.hist(prop[ag==model.age_penalty[3,0]], histtype='step')\n",
    "plt.show()"
   ]
  },
  {
   "cell_type": "code",
   "execution_count": 30,
   "id": "fc83c691",
   "metadata": {},
   "outputs": [
    {
     "data": {
      "image/png": "[encoded data removed]",
      "text/plain": [
       "<Figure size 432x288 with 1 Axes>"
      ]
     },
     "metadata": {
      "needs_background": "light"
     },
     "output_type": "display_data"
    }
   ],
   "source": [
    "\n",
    "bins = np.linspace(prop.min(),  prop.max(), num=50)\n",
    "for i in range(model.age_penalty[:,0].shape[0]):\n",
    "    plt.hist(prop[ag==model.age_penalty[i,0]], bins=bins, histtype='bar', label=\"{:.0f}\".format(model.age_penalty[i,0]))\n",
    "plt.legend()\n",
    "plt.show()\n"
   ]
  },
  {
   "cell_type": "code",
   "execution_count": 32,
   "id": "1608e668",
   "metadata": {},
   "outputs": [],
   "source": [
    "death_index = model.get_deathlist()"
   ]
  },
  {
   "cell_type": "code",
   "execution_count": 48,
   "id": "00324bc7",
   "metadata": {},
   "outputs": [
    {
     "data": {
      "text/plain": [
       "array([ 2134,  4266,  6396,  8526, 10652, 12773, 14893, 17008, 19105,\n",
       "       21004, 22929])"
      ]
     },
     "execution_count": 48,
     "metadata": {},
     "output_type": "execute_result"
    }
   ],
   "source": [
    "np.cumsum(np.unique(ag, return_counts=True)[1])"
   ]
  },
  {
   "cell_type": "code",
   "execution_count": 67,
   "id": "68e9b08f",
   "metadata": {},
   "outputs": [
    {
     "data": {
      "text/plain": [
       "array([  0.,  10.,  20.,  30.,  40.,  50.,  60.,  70.,  80.,  90., 100.,\n",
       "       110.])"
      ]
     },
     "execution_count": 67,
     "metadata": {},
     "output_type": "execute_result"
    }
   ],
   "source": [
    "xyz = np.append(model.age_penalty[:,0], model.age_penalty[-1,0]+10)\n",
    "xyz"
   ]
  },
  {
   "cell_type": "code",
   "execution_count": 61,
   "id": "edc3023b",
   "metadata": {},
   "outputs": [],
   "source": [
    "ag_bins = list(model.age_penalty[:,0])+[model.age_penalty[-1,0]+10]\n",
    "ac = np.histogram(ag, bins=ag_bins)[0]"
   ]
  },
  {
   "cell_type": "code",
   "execution_count": 71,
   "id": "2f59c847",
   "metadata": {},
   "outputs": [],
   "source": [
    "da = [model.population['age'][i] for i in death_index]\n"
   ]
  },
  {
   "cell_type": "code",
   "execution_count": 80,
   "id": "c69e0281",
   "metadata": {},
   "outputs": [
    {
     "data": {
      "text/plain": [
       "((array(['A', 'AB', 'B', 'O'], dtype='<U2'), array([ 28,   1,  36, 146])),\n",
       " (array(['A', 'AB', 'B', 'O'], dtype=object),\n",
       "  array([ 4218,   278,  2902, 15531])),\n",
       " array([0.00663822, 0.00359712, 0.01240524, 0.00940055]))"
      ]
     },
     "execution_count": 80,
     "metadata": {},
     "output_type": "execute_result"
    }
   ],
   "source": [
    "dbt = [model.population['bt_pt'][i] for i in death_index]\n",
    "bt = np.unique(model.population['bt_pt'], return_counts=True)\n",
    "\n",
    "\n",
    "dbt_counts = np.unique(dbt, return_counts=True)\n",
    "\n",
    "dbt_counts, bt, dbt_counts[1]/bt[1]"
   ]
  },
  {
   "cell_type": "code",
   "execution_count": 70,
   "id": "2b7a688f",
   "metadata": {},
   "outputs": [
    {
     "data": {
      "text/plain": [
       "array([2134, 2132, 2130, 2130, 2126, 2121, 2120, 2115, 2097, 1899,  794])"
      ]
     },
     "execution_count": 70,
     "metadata": {},
     "output_type": "execute_result"
    }
   ],
   "source": [
    "np.histogram(model.population['age'], bins=ag_bins)[0]"
   ]
  },
  {
   "cell_type": "code",
   "execution_count": 65,
   "id": "884ada6c",
   "metadata": {},
   "outputs": [
    {
     "data": {
      "text/plain": [
       "(array([  0,   0,   0,   0,   0,   0,   1,   0,   4,  45, 128]),\n",
       " array([  0.,  10.,  20.,  30.,  40.,  50.,  60.,  70.,  80.,  90., 100.,\n",
       "        110.]))"
      ]
     },
     "execution_count": 65,
     "metadata": {},
     "output_type": "execute_result"
    }
   ],
   "source": [
    "np.histogram(da, bins=ag_bins)"
   ]
  },
  {
   "cell_type": "code",
   "execution_count": 63,
   "id": "02e95c9f",
   "metadata": {},
   "outputs": [
    {
     "data": {
      "image/png": "[encoded data removed]",
      "text/plain": [
       "<Figure size 432x288 with 1 Axes>"
      ]
     },
     "metadata": {
      "needs_background": "light"
     },
     "output_type": "display_data"
    }
   ],
   "source": [
    "plt.hist(da, bins=ag_bins)\n",
    "plt.show()"
   ]
  },
  {
   "cell_type": "code",
   "execution_count": null,
   "id": "97371078",
   "metadata": {},
   "outputs": [
    {
     "data": {
      "image/png": "[encoded data removed]",
      "text/plain": [
       "<Figure size 432x288 with 1 Axes>"
      ]
     },
     "metadata": {
      "needs_background": "light"
     },
     "output_type": "display_data"
    },
    {
     "data": {
      "image/png": "[encoded data removed]",
      "text/plain": [
       "<Figure size 432x288 with 1 Axes>"
      ]
     },
     "metadata": {
      "needs_background": "light"
     },
     "output_type": "display_data"
    }
   ],
   "source": [
    "model.set_death_rate(value=2*BloodType.deathRate)\n",
    "model.steps(5)\n",
    "\n",
    "model.set_death_rate(value=BloodType.deathRate)\n",
    "model.set_birth_rate(value=2*BloodType.birthRate)\n",
    "model.steps(10)\n",
    "\n",
    "model.set_birth_rate(value=BloodType.birthRate)\n",
    "model.steps(10)\n",
    "\n",
    "model.steps(2000)"
   ]
  },
  {
   "cell_type": "code",
   "execution_count": null,
   "id": "b65f65ed",
   "metadata": {},
   "outputs": [],
   "source": [
    "model.plot_size(save=True)\n",
    "model.plot_size(cumulativ=True, save=True)\n",
    "model.plot_sex(save=True)\n",
    "model.plot_sex(ratio=True, save=True)\n",
    "model.plot_bt_pt(save=True)\n",
    "model.plot_bt_pt(showRf=True, save=True)\n",
    "model.plot_bt_pt(ratio=True, save=True)\n",
    "model.plot_bt_pt(showRf=True, ratio=True, save=True)\n",
    "model.plot_age_groups(ratio=False, save=True)\n",
    "model.plot_age_groups(ratio=True, save=True)\n",
    "model.save_states()"
   ]
  },
  {
   "cell_type": "code",
   "execution_count": null,
   "id": "2b84015c",
   "metadata": {},
   "outputs": [],
   "source": [
    "# model.plot_size(save=True), model.plot_size(cumulativ=True, save=True), model.plot_sex(save=True), model.plot_sex(ratio=True, save=True), model.plot_bt_pt(save=True), model.plot_bt_pt(showRf=True, save=True), model.plot_bt_pt(ratio=True, save=True), model.plot_bt_pt(showRf=True, ratio=True, save=True), model.plot_age_groups(ratio=False, save=True), model.plot_age_groups(ratio=True, save=True), model.save_states()"
   ]
  }
 ],
 "metadata": {
  "kernelspec": {
   "display_name": "Python 3",
   "language": "python",
   "name": "python3"
  },
  "language_info": {
   "codemirror_mode": {
    "name": "ipython",
    "version": 3
   },
   "file_extension": ".py",
   "mimetype": "text/x-python",
   "name": "python",
   "nbconvert_exporter": "python",
   "pygments_lexer": "ipython3",
   "version": "3.9.7"
  }
 },
 "nbformat": 4,
 "nbformat_minor": 5
}

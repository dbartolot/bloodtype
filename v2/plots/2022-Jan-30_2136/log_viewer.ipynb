{
 "cells": [
  {
   "cell_type": "markdown",
   "id": "18360938",
   "metadata": {},
   "source": [
    "## imports"
   ]
  },
  {
   "cell_type": "code",
   "execution_count": 1,
   "id": "50c63e2d",
   "metadata": {},
   "outputs": [],
   "source": [
    "import random\n",
    "# from bloodtype import BloodType\n",
    "\n",
    "from tqdm import tqdm, trange\n",
    "\n",
    "import ipdb\n",
    "import numpy as np\n",
    "from matplotlib import pyplot as plt\n",
    "import pandas as pd"
   ]
  },
  {
   "cell_type": "code",
   "execution_count": 2,
   "id": "a647a886",
   "metadata": {},
   "outputs": [
    {
     "data": {
      "text/plain": [
       "Index(['time', 'population_size', 'deaths', 'births', 'sex_f', 'sex_m',\n",
       "       'bt_pt-O', 'bt_pt-A', 'bt_pt-B', 'bt_pt-AB', 'btrf_pt-O+', 'btrf_pt-A+',\n",
       "       'btrf_pt-B+', 'btrf_pt-AB+', 'btrf_pt-O-', 'btrf_pt-A-', 'btrf_pt-B-',\n",
       "       'btrf_pt-AB-', '[0.0-10.0)', '[10.0-20.0)', '[20.0-30.0)',\n",
       "       '[30.0-40.0)', '[40.0-50.0)', '[50.0-60.0)', '[60.0-70.0)',\n",
       "       '[70.0-80.0)', '[80.0-90.0)', '[90.0-100.0)', '[100.0)'],\n",
       "      dtype='object')"
      ]
     },
     "execution_count": 2,
     "metadata": {},
     "output_type": "execute_result"
    }
   ],
   "source": [
    "df = pd.read_csv('log_df.csv', header=0, index_col=False)\n",
    "df.columns"
   ]
  },
  {
   "cell_type": "code",
   "execution_count": 3,
   "id": "a3073830",
   "metadata": {},
   "outputs": [],
   "source": [
    "bt_pt = ['bt_pt-O','bt_pt-A', 'bt_pt-B', 'bt_pt-AB']\n",
    "df_bt = df[bt_pt].divide(np.sum(df[bt_pt], axis=1),axis='rows')\n",
    "\n",
    "df_bt.to_csv('bt_df.csv')\n"
   ]
  },
  {
   "cell_type": "code",
   "execution_count": 4,
   "id": "7e50b06f",
   "metadata": {},
   "outputs": [],
   "source": [
    "btrf_pt = ['btrf_pt-O+', 'btrf_pt-A+','btrf_pt-B+', 'btrf_pt-AB+', 'btrf_pt-O-', 'btrf_pt-A-', 'btrf_pt-B-', 'btrf_pt-AB-']\n",
    "df_btrf = df[btrf_pt].divide(np.sum(df[btrf_pt], axis=1),axis='rows')\n",
    "\n",
    "df_btrf.to_csv('btrf_df.csv')\n"
   ]
  }
 ],
 "metadata": {
  "kernelspec": {
   "display_name": "Python 3",
   "language": "python",
   "name": "python3"
  },
  "language_info": {
   "codemirror_mode": {
    "name": "ipython",
    "version": 3
   },
   "file_extension": ".py",
   "mimetype": "text/x-python",
   "name": "python",
   "nbconvert_exporter": "python",
   "pygments_lexer": "ipython3",
   "version": "3.9.7"
  }
 },
 "nbformat": 4,
 "nbformat_minor": 5
}

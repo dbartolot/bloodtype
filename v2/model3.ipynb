{
 "cells": [
  {
   "cell_type": "markdown",
   "id": "18360938",
   "metadata": {},
   "source": [
    "## imports"
   ]
  },
  {
   "cell_type": "code",
   "execution_count": 1,
   "id": "50c63e2d",
   "metadata": {},
   "outputs": [],
   "source": [
    "import random\n",
    "from bloodtype import BloodType\n",
    "\n",
    "from tqdm import tqdm, trange\n",
    "\n",
    "import ipdb\n",
    "import numpy as np\n",
    "from matplotlib import pyplot as plt"
   ]
  },
  {
   "cell_type": "code",
   "execution_count": 2,
   "id": "17d71b85",
   "metadata": {},
   "outputs": [],
   "source": [
    "%matplotlib inline\n",
    "# %matplotlib notebook"
   ]
  },
  {
   "cell_type": "code",
   "execution_count": 2,
   "id": "45a1158a",
   "metadata": {},
   "outputs": [],
   "source": [
    "\n",
    "random.seed(1234)"
   ]
  },
  {
   "cell_type": "markdown",
   "id": "f16fa3c6",
   "metadata": {},
   "source": [
    "## define model\n"
   ]
  },
  {
   "cell_type": "code",
   "execution_count": 3,
   "id": "0789a9c4",
   "metadata": {},
   "outputs": [],
   "source": [
    "random.seed(1234)\n",
    "model = BloodType(20000,\n",
    "                  deathRate=2*BloodType.deathRate,\n",
    "                  birthRate=2*BloodType.birthRate,\n",
    "                  timesteptype='y')"
   ]
  },
  {
   "cell_type": "code",
   "execution_count": 4,
   "id": "0d89747b",
   "metadata": {},
   "outputs": [],
   "source": [
    "model.set_fitness(fitness={\n",
    "        'O': 15,\n",
    "        'A': 1,\n",
    "        'B': 4,\n",
    "        'AB': 2\n",
    "    })\n"
   ]
  },
  {
   "cell_type": "code",
   "execution_count": 5,
   "id": "340dcab2",
   "metadata": {},
   "outputs": [
    {
     "name": "stderr",
     "output_type": "stream",
     "text": [
      "Population Size 20107, year 99.0: 100%|██████████| 100/100 [01:35<00:00,  1.05it/s]\n"
     ]
    },
    {
     "name": "stdout",
     "output_type": "stream",
     "text": [
      "step: 100.00 [20108, 370, 371, [10116, 9992], [20108, 0, 0, 0], [20108, 0, 0, 0, 0, 0, 0, 0], [3659, 3525, 3384, 3254, 2851, 2143, 1059, 230, 3, 0, 0]]\n"
     ]
    },
    {
     "name": "stderr",
     "output_type": "stream",
     "text": [
      "Population Size 20112, year 104.0: 100%|██████████| 5/5 [00:04<00:00,  1.04it/s]\n"
     ]
    },
    {
     "name": "stdout",
     "output_type": "stream",
     "text": [
      "step: 105.00 [20112, 371, 371, [10095, 10017], [18258, 1854, 0, 0], [18258, 1854, 0, 0, 0, 0, 0, 0], [3661, 3532, 3391, 3209, 2903, 2145, 1070, 199, 2, 0, 0]]\n"
     ]
    },
    {
     "name": "stderr",
     "output_type": "stream",
     "text": [
      "Population Size 20119, year 109.0: 100%|██████████| 5/5 [00:04<00:00,  1.04it/s]\n"
     ]
    },
    {
     "name": "stdout",
     "output_type": "stream",
     "text": [
      "step: 110.00 [20120, 370, 371, [10115, 10005], [16414, 1854, 1853, 1], [16414, 1854, 1853, 1, 0, 0, 0, 0], [3706, 3514, 3414, 3198, 2875, 2145, 1039, 226, 3, 0, 0]]\n"
     ]
    },
    {
     "name": "stderr",
     "output_type": "stream",
     "text": [
      "Population Size 20227, year 209.0: 100%|██████████| 100/100 [01:36<00:00,  1.04it/s]\n"
     ]
    },
    {
     "name": "stdout",
     "output_type": "stream",
     "text": [
      "step: 210.00 [20228, 372, 373, [10071, 10157], [10880, 5632, 4228, 512], [10880, 5632, 4228, 512, 0, 0, 0, 0], [3650, 3479, 3321, 3178, 2747, 1792, 1000, 867, 194, 0, 0]]\n"
     ]
    },
    {
     "name": "stderr",
     "output_type": "stream",
     "text": [
      "Population Size 20237, year 219.0: 100%|██████████| 10/10 [00:09<00:00,  1.03it/s]\n"
     ]
    },
    {
     "name": "stdout",
     "output_type": "stream",
     "text": [
      "step: 220.00 [20237, 373, 373, [10062, 10175], [10823, 5647, 4293, 526], [10823, 5647, 4293, 526, 1, 0, 0, 0], [3663, 3488, 3344, 3142, 2795, 2107, 970, 458, 270, 0, 0]]\n"
     ]
    },
    {
     "name": "stderr",
     "output_type": "stream",
     "text": [
      "Population Size 21343, year 1219.0: 100%|██████████| 1000/1000 [16:48<00:00,  1.01s/it]"
     ]
    },
    {
     "name": "stdout",
     "output_type": "stream",
     "text": [
      "step: 1220.00 [21344, 393, 394, [10662, 10682], [13, 21276, 888, 833], [13, 21276, 888, 833, 1, 727, 25, 23], [3875, 3714, 3594, 3406, 3002, 2313, 1159, 275, 6, 0, 0]]\n"
     ]
    },
    {
     "name": "stderr",
     "output_type": "stream",
     "text": [
      "\n"
     ]
    }
   ],
   "source": [
    "model.steps(100)\n",
    "model.steps(5, bt_mutation='A')\n",
    "model.steps(5, bt_mutation='B')\n",
    "model.steps(100)\n",
    "\n",
    "model.steps(10, rf_mutation='-')\n",
    "model.steps(1000)\n"
   ]
  },
  {
   "cell_type": "code",
   "execution_count": 6,
   "id": "97371078",
   "metadata": {},
   "outputs": [
    {
     "name": "stderr",
     "output_type": "stream",
     "text": [
      "Population Size 21348, year 1224.0: 100%|██████████| 5/5 [00:05<00:00,  1.06s/it]\n"
     ]
    },
    {
     "name": "stdout",
     "output_type": "stream",
     "text": [
      "step: 1225.00 [21349, 393, 394, [10671, 10678], [16, 21284, 860, 811], [16, 21284, 860, 811, 1, 723, 24, 23], [3875, 3731, 3592, 3401, 3020, 2281, 1143, 303, 3, 0, 0]]\n"
     ]
    },
    {
     "name": "stderr",
     "output_type": "stream",
     "text": [
      "Population Size 23231, year 1234.0: 100%|██████████| 10/10 [00:09<00:00,  1.10it/s]\n"
     ]
    },
    {
     "name": "stdout",
     "output_type": "stream",
     "text": [
      "step: 1235.00 [23450, 214, 433, [11719, 11731], [19, 23386, 931, 886], [19, 23386, 931, 886, 0, 770, 27, 26], [4125, 3805, 3676, 3528, 3230, 2694, 1710, 630, 52, 0, 0]]\n"
     ]
    },
    {
     "name": "stderr",
     "output_type": "stream",
     "text": [
      "Population Size 23474, year 1244.0: 100%|██████████| 10/10 [00:08<00:00,  1.13it/s]\n"
     ]
    },
    {
     "name": "stdout",
     "output_type": "stream",
     "text": [
      "step: 1245.00 [23477, 216, 219, [11750, 11727], [19, 23411, 924, 877], [19, 23411, 924, 877, 0, 765, 30, 29], [2174, 4082, 3763, 3619, 3406, 2990, 2191, 1129, 123, 0, 0]]\n"
     ]
    },
    {
     "name": "stderr",
     "output_type": "stream",
     "text": [
      "Population Size 29440, year 3244.0: 100%|██████████| 2000/2000 [37:45<00:00,  1.13s/it]"
     ]
    },
    {
     "name": "stdout",
     "output_type": "stream",
     "text": [
      "step: 3245.00 [29444, 271, 275, [14753, 14691], [69, 29333, 690, 648], [69, 29333, 690, 648, 1, 841, 22, 21], [2742, 2740, 2734, 2730, 2730, 2728, 2719, 2720, 2707, 2591, 2303]]\n"
     ]
    },
    {
     "name": "stderr",
     "output_type": "stream",
     "text": [
      "\n"
     ]
    }
   ],
   "source": [
    "model.set_death_rate(value=2*BloodType.deathRate)\n",
    "model.steps(5)\n",
    "\n",
    "model.set_death_rate(value=BloodType.deathRate)\n",
    "model.set_birth_rate(value=2*BloodType.birthRate)\n",
    "model.steps(10)\n",
    "\n",
    "model.set_birth_rate(value=BloodType.birthRate)\n",
    "model.steps(10)\n",
    "\n",
    "model.steps(2000)"
   ]
  },
  {
   "cell_type": "code",
   "execution_count": 10,
   "id": "b65f65ed",
   "metadata": {},
   "outputs": [],
   "source": [
    "model.plot_size(save=True)\n",
    "model.plot_size(cumulativ=True, save=True)\n",
    "model.plot_sex(save=True)\n",
    "model.plot_sex(ratio=True, save=True)\n",
    "model.plot_bt_pt(save=True)\n",
    "model.plot_bt_pt(showRf=True, save=True)\n",
    "model.plot_bt_pt(ratio=True, save=True)\n",
    "model.plot_bt_pt(showRf=True, ratio=True, save=True)\n",
    "model.plot_age_groups(ratio=False, save=True)\n",
    "model.plot_age_groups(ratio=True, save=True)\n",
    "model.save_states()"
   ]
  },
  {
   "cell_type": "code",
   "execution_count": 9,
   "id": "8129427f",
   "metadata": {},
   "outputs": [
    {
     "data": {
      "text/plain": [
       "'./plots/2022-Jan-26_1256/'"
      ]
     },
     "execution_count": 9,
     "metadata": {},
     "output_type": "execute_result"
    }
   ],
   "source": [
    "model.plots_dir"
   ]
  }
 ],
 "metadata": {
  "kernelspec": {
   "display_name": "Python 3",
   "language": "python",
   "name": "python3"
  },
  "language_info": {
   "codemirror_mode": {
    "name": "ipython",
    "version": 3
   },
   "file_extension": ".py",
   "mimetype": "text/x-python",
   "name": "python",
   "nbconvert_exporter": "python",
   "pygments_lexer": "ipython3",
   "version": "3.9.7"
  }
 },
 "nbformat": 4,
 "nbformat_minor": 5
}

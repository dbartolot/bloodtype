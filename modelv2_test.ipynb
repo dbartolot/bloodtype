{
 "cells": [
  {
   "cell_type": "code",
   "execution_count": 1,
   "id": "262a9b24-2ac2-4771-8dc7-50bd6b9d3696",
   "metadata": {
    "scrolled": true
   },
   "outputs": [
    {
     "name": "stdout",
     "output_type": "stream",
     "text": [
      "Requirement already satisfied: numpy in /home/bdan/envs/bloodtype/lib/python3.8/site-packages (1.21.5)\n",
      "Requirement already satisfied: matplotlib in /home/bdan/envs/bloodtype/lib/python3.8/site-packages (3.5.1)\n",
      "Requirement already satisfied: ipdb in /home/bdan/envs/bloodtype/lib/python3.8/site-packages (0.13.9)\n",
      "Requirement already satisfied: fonttools>=4.22.0 in /home/bdan/envs/bloodtype/lib/python3.8/site-packages (from matplotlib) (4.28.5)\n",
      "Requirement already satisfied: kiwisolver>=1.0.1 in /home/bdan/envs/bloodtype/lib/python3.8/site-packages (from matplotlib) (1.3.2)\n",
      "Requirement already satisfied: cycler>=0.10 in /home/bdan/envs/bloodtype/lib/python3.8/site-packages (from matplotlib) (0.11.0)\n",
      "Requirement already satisfied: pillow>=6.2.0 in /home/bdan/envs/bloodtype/lib/python3.8/site-packages (from matplotlib) (8.4.0)\n",
      "Requirement already satisfied: packaging>=20.0 in /home/bdan/envs/bloodtype/lib/python3.8/site-packages (from matplotlib) (21.3)\n",
      "Requirement already satisfied: python-dateutil>=2.7 in /home/bdan/envs/bloodtype/lib/python3.8/site-packages (from matplotlib) (2.8.2)\n",
      "Requirement already satisfied: pyparsing>=2.2.1 in /home/bdan/envs/bloodtype/lib/python3.8/site-packages (from matplotlib) (3.0.6)\n",
      "Requirement already satisfied: ipython>=7.17.0; python_version > \"3.6\" in /home/bdan/envs/bloodtype/lib/python3.8/site-packages (from ipdb) (7.30.1)\n",
      "Requirement already satisfied: decorator; python_version > \"3.6\" in /home/bdan/envs/bloodtype/lib/python3.8/site-packages (from ipdb) (5.1.0)\n",
      "Requirement already satisfied: setuptools in /home/bdan/envs/bloodtype/lib/python3.8/site-packages (from ipdb) (44.0.0)\n",
      "Requirement already satisfied: toml>=0.10.2; python_version > \"3.6\" in /home/bdan/envs/bloodtype/lib/python3.8/site-packages (from ipdb) (0.10.2)\n",
      "Requirement already satisfied: six>=1.5 in /home/bdan/envs/bloodtype/lib/python3.8/site-packages (from python-dateutil>=2.7->matplotlib) (1.16.0)\n",
      "Requirement already satisfied: prompt-toolkit!=3.0.0,!=3.0.1,<3.1.0,>=2.0.0 in /home/bdan/envs/bloodtype/lib/python3.8/site-packages (from ipython>=7.17.0; python_version > \"3.6\"->ipdb) (3.0.24)\n",
      "Requirement already satisfied: matplotlib-inline in /home/bdan/envs/bloodtype/lib/python3.8/site-packages (from ipython>=7.17.0; python_version > \"3.6\"->ipdb) (0.1.3)\n",
      "Requirement already satisfied: traitlets>=4.2 in /home/bdan/envs/bloodtype/lib/python3.8/site-packages (from ipython>=7.17.0; python_version > \"3.6\"->ipdb) (5.1.1)\n",
      "Requirement already satisfied: pickleshare in /home/bdan/envs/bloodtype/lib/python3.8/site-packages (from ipython>=7.17.0; python_version > \"3.6\"->ipdb) (0.7.5)\n",
      "Requirement already satisfied: pexpect>4.3; sys_platform != \"win32\" in /home/bdan/envs/bloodtype/lib/python3.8/site-packages (from ipython>=7.17.0; python_version > \"3.6\"->ipdb) (4.8.0)\n",
      "Requirement already satisfied: backcall in /home/bdan/envs/bloodtype/lib/python3.8/site-packages (from ipython>=7.17.0; python_version > \"3.6\"->ipdb) (0.2.0)\n",
      "Requirement already satisfied: pygments in /home/bdan/envs/bloodtype/lib/python3.8/site-packages (from ipython>=7.17.0; python_version > \"3.6\"->ipdb) (2.10.0)\n",
      "Requirement already satisfied: jedi>=0.16 in /home/bdan/envs/bloodtype/lib/python3.8/site-packages (from ipython>=7.17.0; python_version > \"3.6\"->ipdb) (0.18.1)\n",
      "Requirement already satisfied: wcwidth in /home/bdan/envs/bloodtype/lib/python3.8/site-packages (from prompt-toolkit!=3.0.0,!=3.0.1,<3.1.0,>=2.0.0->ipython>=7.17.0; python_version > \"3.6\"->ipdb) (0.2.5)\n",
      "Requirement already satisfied: ptyprocess>=0.5 in /home/bdan/envs/bloodtype/lib/python3.8/site-packages (from pexpect>4.3; sys_platform != \"win32\"->ipython>=7.17.0; python_version > \"3.6\"->ipdb) (0.7.0)\n",
      "Requirement already satisfied: parso<0.9.0,>=0.8.0 in /home/bdan/envs/bloodtype/lib/python3.8/site-packages (from jedi>=0.16->ipython>=7.17.0; python_version > \"3.6\"->ipdb) (0.8.3)\n",
      "Requirement already satisfied: tqdm in /home/bdan/envs/bloodtype/lib/python3.8/site-packages (4.62.3)\n"
     ]
    }
   ],
   "source": [
    "!pip install numpy matplotlib ipdb \n",
    "!pip install tqdm"
   ]
  },
  {
   "cell_type": "code",
   "execution_count": 2,
   "id": "50c63e2d",
   "metadata": {},
   "outputs": [],
   "source": [
    "import numpy as np\n",
    "from matplotlib import pyplot as plt\n",
    "import random\n",
    "from bloodtype_v2 import BloodType\n",
    "\n",
    "# from tqdm import tqdm\n",
    "import pickle\n",
    "\n",
    "import ipdb"
   ]
  },
  {
   "cell_type": "code",
   "execution_count": null,
   "id": "0789a9c4",
   "metadata": {},
   "outputs": [
    {
     "name": "stdout",
     "output_type": "stream",
     "text": [
      "> \u001b[0;32m/home/bdan/lib/bloodtype/bloodtype_v2.py\u001b[0m(79)\u001b[0;36mupdateSize\u001b[0;34m()\u001b[0m\n",
      "\u001b[0;32m     78 \u001b[0;31m        \u001b[0mipdb\u001b[0m\u001b[0;34m.\u001b[0m\u001b[0mset_trace\u001b[0m\u001b[0;34m(\u001b[0m\u001b[0;34m)\u001b[0m\u001b[0;34m\u001b[0m\u001b[0;34m\u001b[0m\u001b[0m\n",
      "\u001b[0m\u001b[0;32m---> 79 \u001b[0;31m        \u001b[0mself\u001b[0m\u001b[0;34m.\u001b[0m\u001b[0max\u001b[0m\u001b[0;34m[\u001b[0m\u001b[0;36m0\u001b[0m\u001b[0;34m]\u001b[0m\u001b[0;34m.\u001b[0m\u001b[0mfill_between\u001b[0m\u001b[0;34m(\u001b[0m\u001b[0mx\u001b[0m\u001b[0;34m,\u001b[0m \u001b[0my\u001b[0m\u001b[0;34m,\u001b[0m \u001b[0mnp\u001b[0m\u001b[0;34m.\u001b[0m\u001b[0mzeros\u001b[0m\u001b[0;34m(\u001b[0m\u001b[0mlen\u001b[0m\u001b[0;34m(\u001b[0m\u001b[0my\u001b[0m\u001b[0;34m)\u001b[0m\u001b[0;34m)\u001b[0m\u001b[0;34m)\u001b[0m\u001b[0;34m\u001b[0m\u001b[0;34m\u001b[0m\u001b[0m\n",
      "\u001b[0m\u001b[0;32m     80 \u001b[0;31m        \u001b[0mself\u001b[0m\u001b[0;34m.\u001b[0m\u001b[0mfig\u001b[0m\u001b[0;34m.\u001b[0m\u001b[0mcanvas\u001b[0m\u001b[0;34m.\u001b[0m\u001b[0mdraw\u001b[0m\u001b[0;34m(\u001b[0m\u001b[0;34m)\u001b[0m\u001b[0;34m\u001b[0m\u001b[0;34m\u001b[0m\u001b[0m\n",
      "\u001b[0m\n",
      "ipdb> self.ax\n",
      "array([<AxesSubplot:>, <AxesSubplot:>], dtype=object)\n",
      "ipdb> self.ax[0].fill_between(x,y,0)\n",
      "<matplotlib.collections.PolyCollection object at 0x7f3a0b513880>\n",
      "ipdb> self.fig.show()\n"
     ]
    },
    {
     "name": "stderr",
     "output_type": "stream",
     "text": [
      "<stdin>:1: UserWarning: Matplotlib is currently using module://ipykernel.pylab.backend_inline, which is a non-GUI backend, so cannot show the figure.\n"
     ]
    },
    {
     "name": "stdout",
     "output_type": "stream",
     "text": [
      "--KeyboardInterrupt--\n",
      "--KeyboardInterrupt--\n",
      "--KeyboardInterrupt--\n",
      "--KeyboardInterrupt--\n",
      "--KeyboardInterrupt--\n"
     ]
    }
   ],
   "source": [
    "random.seed(1234)\n",
    "model = BloodType(1000)\n",
    "\n",
    "# iterations\n",
    "for i in range(100):\n",
    "    model.step()\n",
    "model.printState()\n",
    "\n"
   ]
  },
  {
   "cell_type": "code",
   "execution_count": null,
   "id": "0d89747b",
   "metadata": {},
   "outputs": [],
   "source": [
    "# generate childs with mutations\n",
    "for i in range(10):\n",
    "    model.genMutatedOffspring(genotypeMutation='A')\n",
    "    model.genMutatedOffspring(genotypeMutation='B')\n",
    "\n",
    "model.printState()\n",
    "\n"
   ]
  },
  {
   "cell_type": "code",
   "execution_count": null,
   "id": "340dcab2",
   "metadata": {},
   "outputs": [],
   "source": [
    "# iterations\n",
    "for i in tqdm(range(1000000)):\n",
    "    model.step()\n",
    "model.printState()\n",
    "\n"
   ]
  },
  {
   "cell_type": "code",
   "execution_count": null,
   "id": "949abf9e",
   "metadata": {},
   "outputs": [],
   "source": [
    "# model.save()\n",
    "\n",
    "\n",
    "# model.plot_sex()\n",
    "# model.plot_sex(ratio=True)\n",
    "model.plot_phenotype()\n",
    "model.plot_phenotype(ratio=True)\n",
    "ipdb.set_trace()"
   ]
  },
  {
   "cell_type": "code",
   "execution_count": 3,
   "id": "ff4087a0",
   "metadata": {},
   "outputs": [
    {
     "data": {
      "image/png": "[encoded data removed]",
      "text/plain": [
       "<Figure size 432x288 with 1 Axes>"
      ]
     },
     "metadata": {
      "needs_background": "light"
     },
     "output_type": "display_data"
    }
   ],
   "source": [
    "x = np.linspace(0, 6*np.pi, 100)\n",
    "y = np.sin(x)\n",
    "\n",
    "# You probably won't need this if you're embedding things in a tkinter plot...\n",
    "plt.ion()\n",
    "\n",
    "fig = plt.figure()\n",
    "ax = fig.add_subplot(111)\n",
    "line1, = ax.plot(x, y, 'r-') # Returns a tuple of line objects, thus the comma\n",
    "\n",
    "for phase in np.linspace(0, 10*np.pi, 500):\n",
    "    line1.set_ydata(np.sin(x + phase))\n",
    "    fig.canvas.draw()\n",
    "    fig.canvas.flush_events()"
   ]
  },
  {
   "cell_type": "code",
   "execution_count": null,
   "id": "f27744cf",
   "metadata": {},
   "outputs": [],
   "source": []
  }
 ],
 "metadata": {
  "kernelspec": {
   "display_name": "Python 3",
   "language": "python",
   "name": "python3"
  },
  "language_info": {
   "codemirror_mode": {
    "name": "ipython",
    "version": 3
   },
   "file_extension": ".py",
   "mimetype": "text/x-python",
   "name": "python",
   "nbconvert_exporter": "python",
   "pygments_lexer": "ipython3",
   "version": "3.8.10"
  }
 },
 "nbformat": 4,
 "nbformat_minor": 5
}
